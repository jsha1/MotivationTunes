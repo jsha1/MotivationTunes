{
 "cells": [
  {
   "cell_type": "code",
   "execution_count": 10,
   "metadata": {
    "collapsed": true
   },
   "outputs": [],
   "source": [
    "import pafy\n",
    "import sqlite3\n",
    "import configparser\n",
    "import os"
   ]
  },
  {
   "cell_type": "code",
   "execution_count": 39,
   "metadata": {
    "collapsed": false
   },
   "outputs": [
    {
     "name": "stdout",
     "output_type": "stream",
     "text": [
      "[u'PLH-HY1bTtTOpjrUNOS6YdZ_UIA02vFSQp', u'PLhyP9fBfZRphUTKJeCHK4KhjVDO2Yb5iU', u'PLH-HY1bTtTOqzztms42_Yb3PV_0CV72Q4']\n"
     ]
    },
    {
     "name": "stderr",
     "output_type": "stream",
     "text": [
      "/home/jerry/anaconda2/lib/python2.7/site-packages/ipykernel/__main__.py:6: DeprecationWarning: This method will be removed in future versions.  Use 'parser.read_file()' instead.\n"
     ]
    }
   ],
   "source": [
    "config = configparser.ConfigParser()\n",
    "script_dir = os.path.dirname(__file__)\n",
    "if script_dir[-1] != '/':\n",
    "    script_dir += '/'\n",
    "\n",
    "config.readfp(open(script_dir + 'config.ini'))\n",
    "playlistIds = config['media']['playlists'].split(',')\n",
    "print playlistIds\n",
    "\n",
    "#DB_PATH = \"/home/jerry/sandbox/youtube-dl/db/\"\n",
    "#MUSIC_PATH = \"/home/jerry/sandbox/youtube-dl/tmp/\"\n",
    "DB_PATH = script_dir + '/' + config['paths']['DB_PATH']\n",
    "MUSIC_PATH = config['paths']['MUSIC_PATH']"
   ]
  },
  {
   "cell_type": "code",
   "execution_count": 37,
   "metadata": {
    "collapsed": false
   },
   "outputs": [],
   "source": [
    "def downloadVideos(valid_pafys, c, conn):\n",
    "    for pafy in valid_pafys:\n",
    "        downloadVideo(pafy,c,conn)\n",
    "        \n",
    "def deleteAllDB():\n",
    "    conn = sqlite3.connect(DB_PATH + 'MotivationTunes.db')\n",
    "    c = conn.cursor()\n",
    "    c.execute(\"DELETE FROM FROM video\");\n",
    "    conn.commit()\n",
    "    conn.close()\n",
    "\n",
    "def downloadVideo(pafy,c,conn):\n",
    "\n",
    "    mark(pafy.videoid,c, 'DOWNLOADING')\n",
    "    conn.commit()\n",
    "    try:\n",
    "        streams = pafy.audiostreams\n",
    "    except Exception:\n",
    "        print \"exception while getting stream for video %s\" % (pafy.videoid)\n",
    "        return\n",
    "    \n",
    "    valid_streams = (stream for stream in streams if stream.extension in ('mp3','m4a','wma','flac','ogg'))\n",
    " \n",
    "    chosen = valid_streams.next()\n",
    "    if chosen: \n",
    "        filename = pafy.title + \"_\" + pafy.videoid + \".\" + chosen.extension\n",
    "        chosen.download(filepath=MUSIC_PATH + filename)\n",
    "    else:\n",
    "        markCompleted(pafy.videoid,c,'NO_AUDIO_STREAMS')\n",
    "        return\n",
    "    \n",
    "    markCompleted(pafy.videoid,c,'COMPLETED')\n",
    "    conn.commit()\n",
    "  \n",
    "    print(\"download %s complete!\" % pafy.videoid)"
   ]
  },
  {
   "cell_type": "code",
   "execution_count": 38,
   "metadata": {
    "collapsed": false
   },
   "outputs": [
    {
     "name": "stdout",
     "output_type": "stream",
     "text": [
      "4 videos to dl\n",
      "download -lw-iUwkXhI complete!\n",
      "download dsWDUvuF0Xc complete!\n",
      "download 9TqUlGyWSEk complete!\n",
      "download QpbQ4I3Eidg complete!\n",
      "completed\n"
     ]
    }
   ],
   "source": [
    "\n",
    "\n",
    "def createTableIfNotExists(c):\n",
    "\n",
    "    def createTable():\n",
    "            # Create table\n",
    "        c.execute('''CREATE TABLE\n",
    "                 video ( \n",
    "                  video_id text primary key, \n",
    "                  status text,\n",
    "                  updated TIMESTAMP DEFAULT CURRENT_TIMESTAMP\n",
    "                  )''')\n",
    "\n",
    "    c.execute(\"SELECT name FROM sqlite_master WHERE type='table' AND name='video'\");\n",
    "    result = c.fetchone()\n",
    "    if not result:\n",
    "        createTable()\n",
    "    \n",
    "def videoAlreadyProcessed(c,video_id):\n",
    "    c.execute(\"SELECT video_id FROM video WHERE video_id = ?\", [(video_id)]);\n",
    "    result = c.fetchone()\n",
    "    return result\n",
    "        \n",
    "def mark(video_id, c, status):\n",
    "    \n",
    "    purchases = [(video_id, status)]\n",
    "    c.executemany('INSERT INTO video (video_id, status) VALUES (?,?)', purchases)\n",
    "    #printTable(c)\n",
    "    \n",
    "def markCompleted(video_id, c, status):\n",
    "    \n",
    "    purchases = [( status, video_id)]\n",
    "    c.executemany('UPDATE video SET status = ? where video_id = ?', purchases)\n",
    "    #printTable(c)\n",
    "    \n",
    "def printTable(c):\n",
    "    \n",
    "    for row in c.execute('SELECT * FROM video'):\n",
    "        print row\n",
    "\n",
    "def main():\n",
    "    conn = sqlite3.connect(DB_PATH + 'MotivationTunes.db')\n",
    "    c = conn.cursor()\n",
    "    createTableIfNotExists(c)\n",
    "    valid_pafys = []\n",
    "    for playlistId in playlistIds:\n",
    "        plurl = 'https://www.youtube.com/playlist?list=' + playlistId\n",
    "        playlist = pafy.get_playlist(plurl)\n",
    "        for item in playlist['items']:\n",
    "            if not videoAlreadyProcessed(c, item['pafy'].videoid):\n",
    "                valid_pafys.append(item['pafy'])\n",
    "\n",
    "    print(str(len(valid_pafys)) + \" videos to dl\")\n",
    "    downloadVideos(valid_pafys,c,conn)\n",
    "\n",
    "    conn.close()\n",
    "    print(\"completed\")\n",
    "    \n",
    "        \n",
    "if __name__ == '__main__':\n",
    "    main()\n",
    "\n",
    "        \n",
    "\n"
   ]
  },
  {
   "cell_type": "code",
   "execution_count": null,
   "metadata": {
    "collapsed": true
   },
   "outputs": [],
   "source": []
  },
  {
   "cell_type": "code",
   "execution_count": null,
   "metadata": {
    "collapsed": true
   },
   "outputs": [],
   "source": []
  }
 ],
 "metadata": {
  "anaconda-cloud": {},
  "kernelspec": {
   "display_name": "Python [default]",
   "language": "python",
   "name": "python2"
  },
  "language_info": {
   "codemirror_mode": {
    "name": "ipython",
    "version": 2
   },
   "file_extension": ".py",
   "mimetype": "text/x-python",
   "name": "python",
   "nbconvert_exporter": "python",
   "pygments_lexer": "ipython2",
   "version": "2.7.12"
  }
 },
 "nbformat": 4,
 "nbformat_minor": 1
}
