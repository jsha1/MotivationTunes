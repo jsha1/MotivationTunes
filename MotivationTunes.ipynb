{
 "cells": [
  {
   "cell_type": "code",
   "execution_count": 11,
   "metadata": {
    "collapsed": true
   },
   "outputs": [],
   "source": [
    "import pafy\n",
    "import sqlite3\n",
    "import configparser"
   ]
  },
  {
   "cell_type": "code",
   "execution_count": 13,
   "metadata": {
    "collapsed": false
   },
   "outputs": [
    {
     "name": "stderr",
     "output_type": "stream",
     "text": [
      "/home/jerry/anaconda2/lib/python2.7/site-packages/ipykernel/__main__.py:2: DeprecationWarning: You passed a bytestring as `filenames`. This will not work on Python 3. Use `cp.read_file()` or switch to using Unicode strings across the board.\n",
      "  from ipykernel import kernelapp as app\n"
     ]
    }
   ],
   "source": [
    "config = configparser.ConfigParser()\n",
    "config.read('config.ini')\n",
    "playlistIds = config['media']['playlists'].split(',')\n",
    "\n",
    "#DB_PATH = \"/home/jerry/sandbox/youtube-dl/db/\"\n",
    "#MUSIC_PATH = \"/home/jerry/sandbox/youtube-dl/tmp/\"\n",
    "DB_PATH = config['paths']['DB_PATH']\n",
    "MUSIC_PATH = config['paths']['MUSIC_PATH']"
   ]
  },
  {
   "cell_type": "code",
   "execution_count": 14,
   "metadata": {
    "collapsed": false
   },
   "outputs": [],
   "source": [
    "def downloadVideos(valid_pafys, c, conn):\n",
    "    for pafy in valid_pafys:\n",
    "        downloadVideo(pafy,c,conn)\n",
    "        \n",
    "def deleteAllDB():\n",
    "    conn = sqlite3.connect(DB_PATH + 'MotivationTunes.db')\n",
    "    c = conn.cursor()\n",
    "    c.execute(\"DELETE FROM FROM video\");\n",
    "    conn.commit()\n",
    "    conn.close()\n",
    "\n",
    "def downloadVideo(pafy,c,conn):\n",
    "\n",
    "    mark(pafy.videoid,c, 'DOWNLOADING')\n",
    "    conn.commit()\n",
    "   \n",
    "    streams = pafy.audiostreams\n",
    "    valid_streams = (stream for stream in streams if stream.extension in ('mp3','m4a','wma','flac','ogg'))\n",
    "    chosen = valid_streams.next()\n",
    "    if chosen:\n",
    "    \n",
    "        filename = pafy.title + \"_\" + pafy.videoid + \".\" + chosen.extension\n",
    "        chosen.download(filepath=MUSIC_PATH + filename)\n",
    "    else:\n",
    "          markCompleted(pafy.videoid,c,'NO_AUDIO_STREAMS')\n",
    "          return\n",
    "    \n",
    "    markCompleted(pafy.videoid,c,'COMPLETED')\n",
    "    conn.commit()\n",
    "  \n",
    "    print(\"download complete!\")"
   ]
  },
  {
   "cell_type": "code",
   "execution_count": 15,
   "metadata": {
    "collapsed": false
   },
   "outputs": [
    {
     "ename": "OperationalError",
     "evalue": "unable to open database file",
     "output_type": "error",
     "traceback": [
      "\u001b[0;31m---------------------------------------------------------------------------\u001b[0m",
      "\u001b[0;31mOperationalError\u001b[0m                          Traceback (most recent call last)",
      "\u001b[0;32m<ipython-input-15-77fe272c9520>\u001b[0m in \u001b[0;36m<module>\u001b[0;34m()\u001b[0m\n\u001b[1;32m     63\u001b[0m \u001b[0;34m\u001b[0m\u001b[0m\n\u001b[1;32m     64\u001b[0m \u001b[0;32mif\u001b[0m \u001b[0m__name__\u001b[0m \u001b[0;34m==\u001b[0m \u001b[0;34m'__main__'\u001b[0m\u001b[0;34m:\u001b[0m\u001b[0;34m\u001b[0m\u001b[0m\n\u001b[0;32m---> 65\u001b[0;31m     \u001b[0mmain\u001b[0m\u001b[0;34m(\u001b[0m\u001b[0;34m)\u001b[0m\u001b[0;34m\u001b[0m\u001b[0m\n\u001b[0m\u001b[1;32m     66\u001b[0m \u001b[0;34m\u001b[0m\u001b[0m\n\u001b[1;32m     67\u001b[0m \u001b[0;34m\u001b[0m\u001b[0m\n",
      "\u001b[0;32m<ipython-input-15-77fe272c9520>\u001b[0m in \u001b[0;36mmain\u001b[0;34m()\u001b[0m\n\u001b[1;32m     41\u001b[0m \u001b[0;34m\u001b[0m\u001b[0m\n\u001b[1;32m     42\u001b[0m \u001b[0;32mdef\u001b[0m \u001b[0mmain\u001b[0m\u001b[0;34m(\u001b[0m\u001b[0;34m)\u001b[0m\u001b[0;34m:\u001b[0m\u001b[0;34m\u001b[0m\u001b[0m\n\u001b[0;32m---> 43\u001b[0;31m     \u001b[0mconn\u001b[0m \u001b[0;34m=\u001b[0m \u001b[0msqlite3\u001b[0m\u001b[0;34m.\u001b[0m\u001b[0mconnect\u001b[0m\u001b[0;34m(\u001b[0m\u001b[0mDB_PATH\u001b[0m \u001b[0;34m+\u001b[0m \u001b[0;34m'MotivationTunes.db'\u001b[0m\u001b[0;34m)\u001b[0m\u001b[0;34m\u001b[0m\u001b[0m\n\u001b[0m\u001b[1;32m     44\u001b[0m     \u001b[0mc\u001b[0m \u001b[0;34m=\u001b[0m \u001b[0mconn\u001b[0m\u001b[0;34m.\u001b[0m\u001b[0mcursor\u001b[0m\u001b[0;34m(\u001b[0m\u001b[0;34m)\u001b[0m\u001b[0;34m\u001b[0m\u001b[0m\n\u001b[1;32m     45\u001b[0m     \u001b[0mcreateTableIfNotExists\u001b[0m\u001b[0;34m(\u001b[0m\u001b[0mc\u001b[0m\u001b[0;34m)\u001b[0m\u001b[0;34m\u001b[0m\u001b[0m\n",
      "\u001b[0;31mOperationalError\u001b[0m: unable to open database file"
     ]
    }
   ],
   "source": [
    "\n",
    "\n",
    "def createTableIfNotExists(c):\n",
    "\n",
    "    def createTable():\n",
    "            # Create table\n",
    "        c.execute('''CREATE TABLE\n",
    "                 video ( \n",
    "                  video_id text primary key, \n",
    "                  status text,\n",
    "                  updated TIMESTAMP DEFAULT CURRENT_TIMESTAMP\n",
    "                  )''')\n",
    "\n",
    "    c.execute(\"SELECT name FROM sqlite_master WHERE type='table' AND name='video'\");\n",
    "    result = c.fetchone()\n",
    "    if not result:\n",
    "        createTable()\n",
    "    \n",
    "def videoAlreadyProcessed(c,video_id):\n",
    "    c.execute(\"SELECT video_id FROM video WHERE video_id = ?\", [(video_id)]);\n",
    "    result = c.fetchone()\n",
    "    print result\n",
    "    return result\n",
    "        \n",
    "def mark(video_id, c, status):\n",
    "    \n",
    "    purchases = [(video_id, status)]\n",
    "    c.executemany('INSERT INTO video (video_id, status) VALUES (?,?)', purchases)\n",
    "    #printTable(c)\n",
    "    \n",
    "def markCompleted(video_id, c, status):\n",
    "    \n",
    "    purchases = [( status, video_id)]\n",
    "    c.executemany('UPDATE video SET status = ? where video_id = ?', purchases)\n",
    "    #printTable(c)\n",
    "    \n",
    "def printTable(c):\n",
    "    \n",
    "    for row in c.execute('SELECT * FROM video'):\n",
    "        print row\n",
    "\n",
    "def main():\n",
    "    conn = sqlite3.connect(DB_PATH + 'MotivationTunes.db')\n",
    "    c = conn.cursor()\n",
    "    createTableIfNotExists(c)\n",
    "    \n",
    "    print playlistIds\n",
    "\n",
    "    for playlistId in playlistIds:\n",
    "        plurl = 'https://www.youtube.com/playlist?list=' + playlistId\n",
    "        playlist = pafy.get_playlist(plurl)\n",
    "        valid_pafys = []\n",
    "        for item in playlist['items']:\n",
    "            if not videoAlreadyProcessed(c, item['pafy'].videoid):\n",
    "                valid_pafys.append(item['pafy'])\n",
    "\n",
    "    print(str(len(valid_pafys)) + \" videos to dl\")\n",
    "    downloadVideos(valid_pafys,c,conn)\n",
    "\n",
    "    conn.close()\n",
    "    print(\"completed\")\n",
    "    \n",
    "        \n",
    "if __name__ == '__main__':\n",
    "    main()\n",
    "\n",
    "        \n",
    "\n"
   ]
  },
  {
   "cell_type": "code",
   "execution_count": null,
   "metadata": {
    "collapsed": true
   },
   "outputs": [],
   "source": []
  }
 ],
 "metadata": {
  "anaconda-cloud": {},
  "kernelspec": {
   "display_name": "Python [default]",
   "language": "python",
   "name": "python2"
  },
  "language_info": {
   "codemirror_mode": {
    "name": "ipython",
    "version": 2
   },
   "file_extension": ".py",
   "mimetype": "text/x-python",
   "name": "python",
   "nbconvert_exporter": "python",
   "pygments_lexer": "ipython2",
   "version": "2.7.12"
  }
 },
 "nbformat": 4,
 "nbformat_minor": 1
}
